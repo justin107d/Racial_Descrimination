{
 "cells": [
  {
   "cell_type": "markdown",
   "metadata": {},
   "source": [
    "# Examining Racial Discrimination in the US Job Market\n",
    "\n",
    "### Background\n",
    "Racial discrimination continues to be pervasive in cultures throughout the world. Researchers examined the level of racial discrimination in the United States labor market by randomly assigning identical résumés to black-sounding or white-sounding names and observing the impact on requests for interviews from employers.\n",
    "\n",
    "### Data\n",
    "In the dataset provided, each row represents a resume. The 'race' column has two values, 'b' and 'w', indicating black-sounding and white-sounding. The column 'call' has two values, 1 and 0, indicating whether the resume received a call from employers or not.\n",
    "\n",
    "Note that the 'b' and 'w' values in race are assigned randomly to the resumes when presented to the employer."
   ]
  },
  {
   "cell_type": "markdown",
   "metadata": {},
   "source": [
    "<div class=\"span5 alert alert-info\">\n",
    "### Exercises\n",
    "You will perform a statistical analysis to establish whether race has a significant impact on the rate of callbacks for resumes.\n",
    "\n",
    "Answer the following questions **in this notebook below and submit to your Github account**. \n",
    "\n",
    "   1. What test is appropriate for this problem? Does CLT apply?\n",
    "   2. What are the null and alternate hypotheses?\n",
    "   3. Compute margin of error, confidence interval, and p-value. Try using both the bootstrapping and the frequentist statistical approaches.\n",
    "   4. Write a story describing the statistical significance in the context or the original problem.\n",
    "   5. Does your analysis mean that race/name is the most important factor in callback success? Why or why not? If not, how would you amend your analysis?\n",
    "\n",
    "You can include written notes in notebook cells using Markdown: \n",
    "   - In the control panel at the top, choose Cell > Cell Type > Markdown\n",
    "   - Markdown syntax: http://nestacms.com/docs/creating-content/markdown-cheat-sheet\n",
    "\n",
    "\n",
    "#### Resources\n",
    "+ Experiment information and data source: http://www.povertyactionlab.org/evaluation/discrimination-job-market-united-states\n",
    "+ Scipy statistical methods: http://docs.scipy.org/doc/scipy/reference/stats.html \n",
    "+ Markdown syntax: http://nestacms.com/docs/creating-content/markdown-cheat-sheet\n",
    "+ Formulas for the Bernoulli distribution: https://en.wikipedia.org/wiki/Bernoulli_distribution\n",
    "</div>\n",
    "****"
   ]
  },
  {
   "cell_type": "code",
   "execution_count": 15,
   "metadata": {
    "collapsed": true
   },
   "outputs": [],
   "source": [
    "import pandas as pd\n",
    "import numpy as np\n",
    "from scipy import stats\n",
    "import matplotlib.pyplot as plt"
   ]
  },
  {
   "cell_type": "code",
   "execution_count": 3,
   "metadata": {
    "collapsed": true
   },
   "outputs": [],
   "source": [
    "data = pd.io.stata.read_stata('data/us_job_market_discrimination.dta')"
   ]
  },
  {
   "cell_type": "code",
   "execution_count": 4,
   "metadata": {},
   "outputs": [
    {
     "name": "stdout",
     "output_type": "stream",
     "text": [
      "  race  call firstname\n",
      "0    w   0.0   Allison\n",
      "1    w   0.0   Kristen\n",
      "2    b   0.0   Lakisha\n",
      "3    b   0.0   Latonya\n",
      "4    w   0.0    Carrie\n",
      "<class 'pandas.core.frame.DataFrame'>\n",
      "Int64Index: 4870 entries, 0 to 4869\n",
      "Data columns (total 3 columns):\n",
      "race         4870 non-null object\n",
      "call         4870 non-null float32\n",
      "firstname    4870 non-null object\n",
      "dtypes: float32(1), object(2)\n",
      "memory usage: 133.2+ KB\n",
      "None\n"
     ]
    }
   ],
   "source": [
    "\n",
    "df = data[['race','call','firstname']]\n",
    "print(df.head())\n",
    "print(df.info())\n"
   ]
  },
  {
   "cell_type": "code",
   "execution_count": 5,
   "metadata": {},
   "outputs": [
    {
     "name": "stdout",
     "output_type": "stream",
     "text": [
      "white callbacks:  235.0\n",
      "total white applicants:  2435\n",
      "black callbacks:  157.0\n",
      "total black applicants:  2435\n",
      "totals add up:  True\n"
     ]
    }
   ],
   "source": [
    "# number of callbacks for black and white sounding names\n",
    "white_calls=sum(data[data.race=='w'].call)\n",
    "black_calls=sum(data[data.race=='b'].call)\n",
    "total_white_calls=data[data.race=='w'].race.count()\n",
    "total_black_calls=data[data.race=='b'].race.count()\n",
    "total_check=bool(total_white_calls+total_black_calls==data.race.count())\n",
    "\n",
    "#print raw numbers:\n",
    "print('white callbacks: ',white_calls)\n",
    "print('total white applicants: ',total_white_calls)\n",
    "print('black callbacks: ',black_calls)\n",
    "print('total black applicants: ',total_black_calls)\n",
    "print('totals add up: ',total_check)\n",
    "\n"
   ]
  },
  {
   "cell_type": "markdown",
   "metadata": {},
   "source": [
    "1.)  Exploring the data we can see that the values from the columns are either one of 2 values.  This would fit the standard deffinition of a binomial distribution and since we have 4870 of each, the distribution will be approximately normal by the De Moivre–Laplace theorem."
   ]
  },
  {
   "cell_type": "markdown",
   "metadata": {
    "collapsed": true
   },
   "source": [
    "<div class=\"span5 alert alert-success\">\n",
    "<h2>SOLUTION: What test is appropriate for this problem?</h2>\n",
    "\n",
    "<p>This is an interesting question, and it can be argued that there are two possible correct answers (such is life). First note the wording of the question: does race have a *significant impact* on callback. This usually suggests a $\\chi^2$-test, but the $\\chi^2$-test requires *frequencies* rather than percentages. Interestingly, one of the code snippets above uses frequency so we will look at that in a bit.</p>\n",
    "\n",
    "For now, a two-sample $z$-test:\n",
    "\n",
    "$$z = \\frac{\\left( \\hat{p}_W - \\hat{p}_B \\right) - 0}{\\sqrt{\\hat{p} (1 - \\hat{p)} \\left( \\frac{1}{n_W} + \\frac{1}{n_B}\\right)}}$$\n",
    "\n",
    "where\n",
    "\n",
    "$$\\hat{p} = \\frac{y_W + y_B}{n_W + n_B}$$\n",
    "\n",
    "The null and alternate hypotheses:\n",
    "\n",
    "$$H_0: p_B = p_W$$\n",
    "$$H_A: p_B \\ne p_W$$\n",
    "\n",
    "CLT applies because we assume that the samples are representative of the population. The observations in each sample are assumed to be independent since the sample was drawn randomly."
   ]
  },
  {
   "cell_type": "code",
   "execution_count": 6,
   "metadata": {},
   "outputs": [
    {
     "name": "stdout",
     "output_type": "stream",
     "text": [
      "Z score: 4.108412152434346\n",
      "P-value: 3.983886837585077e-05\n"
     ]
    }
   ],
   "source": [
    "w = data[data.race=='w']\n",
    "b = data[data.race=='b']\n",
    "\n",
    "n_w = len(w)\n",
    "n_b = len(b)\n",
    "\n",
    "prop_w = np.sum(w.call) / len(w)\n",
    "prop_b = np.sum(b.call) / len(b)\n",
    "\n",
    "prop_diff = prop_w - prop_b\n",
    "phat = (np.sum(w.call) + np.sum(b.call)) / (len(w) + len(b))\n",
    "\n",
    "z = prop_diff / np.sqrt(phat * (1 - phat) * ((1 / n_w) + (1 / n_b)))\n",
    "pval = stats.norm.cdf(-z) * 2\n",
    "print(\"Z score: {}\".format(z))\n",
    "print(\"P-value: {}\".format(pval))"
   ]
  },
  {
   "cell_type": "markdown",
   "metadata": {},
   "source": [
    "2.)  The Null hypothesis is that both races recieve the same percentage of calls back.  The alternative hypothesis is that race does effect the call back rate."
   ]
  },
  {
   "cell_type": "code",
   "execution_count": 22,
   "metadata": {},
   "outputs": [
    {
     "name": "stdout",
     "output_type": "stream",
     "text": [
      "Margin of Error: 0.015281912310894095\n",
      "Confidence interval: [ 0.01675094  0.04731477]\n",
      "t-statistic: 4.114705290861751\n",
      "p-value: 3.942941513645935e-05\n"
     ]
    }
   ],
   "source": [
    "moe = 1.96 * np.sqrt(phat * (1 - phat) * ((1 / n_w) + (1 / n_b)))\n",
    "ci = prop_diff + np.array([-1, 1]) * moe\n",
    "t_test, p_value = stats.ttest_ind(w.call,b.call,equal_var=False)\n",
    "print(\"Margin of Error: {}\".format(moe))\n",
    "print(\"Confidence interval: {}\".format(ci))\n",
    "print('t-statistic: {}'.format(t_test))\n",
    "print('p-value: {}'.format(p_value))"
   ]
  },
  {
   "cell_type": "code",
   "execution_count": 31,
   "metadata": {},
   "outputs": [
    {
     "name": "stdout",
     "output_type": "stream",
     "text": [
      "p-value: 0.0001\n"
     ]
    }
   ],
   "source": [
    "#create bootstrapping function\n",
    "def draw_bs_reps(data, func, size=1):\n",
    "    bs_replicates=np.empty(size)\n",
    "    for i in range(size):\n",
    "        bs_replicates[i]=func(np.random.choice(data,size=len(data)))    \n",
    "    return bs_replicates   \n",
    "\n",
    "# Compute mean of all forces: mean_force\n",
    "mean_call = np.mean(data.call)\n",
    "\n",
    "# Generate shifted arrays\n",
    "w_shifted = w.call - np.mean(w.call) + mean_call\n",
    "b_shifted = b.call - np.mean(b.call) + mean_call\n",
    "\n",
    "# Compute 10,000 bootstrap replicates from shifted arrays\n",
    "bs_replicates_w = draw_bs_reps(w_shifted, np.mean, 10000)\n",
    "bs_replicates_b = draw_bs_reps(b_shifted, np.mean, 10000)\n",
    "\n",
    "# Get difference of means\n",
    "bs_replicates = bs_replicates_w - bs_replicates_b\n",
    "empirical_diff_means= np.mean(w.call)-np.mean(b.call)\n",
    "\n",
    "# Compute and print p-value: p\n",
    "p = np.sum(bs_replicates >= empirical_diff_means)/len(bs_replicates)\n",
    "print('p-value: {}'.format(p))\n",
    "\n",
    "\n"
   ]
  },
  {
   "cell_type": "markdown",
   "metadata": {},
   "source": [
    "3.)  The margin of error came out to 0.0153, and a confidence interval of 0.0168 to 0.0473.  The frequentist approach gave us a t-statistic was 4.1147 and a p-value was 0.000039.  The p-value given by the bootstrapping test was 0.0001.\n",
    "\n",
    "4.)  The two experiments tell us that race associated with certain names does indeed have an effect on the amount of call backs and requests for interviews.  The result so far does not say the severity, but only that it is significant and it exists.\n",
    "\n",
    "5.)  As mentioned, these tests only state that it is a factor in the call back rate.  More research would need to be done in order to decide which factors have the biggest impact on call backs."
   ]
  },
  {
   "cell_type": "code",
   "execution_count": null,
   "metadata": {
    "collapsed": true
   },
   "outputs": [],
   "source": []
  },
  {
   "cell_type": "markdown",
   "metadata": {},
   "source": [
    "<div class=\"span5 alert alert-success\">\n",
    "<p>The p-value is practically 0 so we reject the null hypothesis that white and black sounding names have the same callback rate. They do not.</p>\n",
    "\n",
    "<p>Since 0 is not in the confidence interval, we reject the null hypothesis with the same conclusion.</p>\n",
    "\n",
    "<h4>SOLUTION: Does your analysis mean that race/name is the most important factor in callback success? Why or why not? If not, how would you amend your analysis?</h4>\n",
    "\n",
    "<p>No! While our test did show that there is a difference in callback rate based on race alone, there are other variables that may also contribute to, or interact with, race to explain the difference. In the original research paper, the researchers cited geography/city as a confounding variable. Additionally, we could also look at education and experience levels as well. But, in our very narrow example, we have shown that there is a significant difference in callback rates between white people and black people.</p>\n",
    "\n",
    "<p>The $\\chi^2$ approach:</p>\n",
    "</div>"
   ]
  },
  {
   "cell_type": "code",
   "execution_count": 11,
   "metadata": {},
   "outputs": [
    {
     "name": "stdout",
     "output_type": "stream",
     "text": [
      "Chi-squared test statistic: 16.44902858418937\n",
      "p-value: 4.997578389963255e-05\n"
     ]
    }
   ],
   "source": [
    "cont_table = pd.crosstab(index=data.call, columns=data.race)\n",
    "chi2, pval, _, _ = stats.chi2_contingency(cont_table)\n",
    "print(\"Chi-squared test statistic: {}\".format(chi2))\n",
    "print(\"p-value: {}\".format(pval))"
   ]
  },
  {
   "cell_type": "markdown",
   "metadata": {},
   "source": [
    "<div class=\"span5 alert alert-success\">\n",
    "The chi-squared test yields a similar result. We reject the null hypothesis that race and callback rate are independent. The margin of error and confidence interval calculations are a bit more complicated because the chi-squared distribution is not always symmetric, depending on the number of degrees of freedom.\n",
    "</div>"
   ]
  },
  {
   "cell_type": "code",
   "execution_count": null,
   "metadata": {
    "collapsed": true
   },
   "outputs": [],
   "source": []
  }
 ],
 "metadata": {
  "kernelspec": {
   "display_name": "Python 3",
   "language": "python",
   "name": "python3"
  },
  "language_info": {
   "codemirror_mode": {
    "name": "ipython",
    "version": 3
   },
   "file_extension": ".py",
   "mimetype": "text/x-python",
   "name": "python",
   "nbconvert_exporter": "python",
   "pygments_lexer": "ipython3",
   "version": "3.6.3"
  }
 },
 "nbformat": 4,
 "nbformat_minor": 1
}
